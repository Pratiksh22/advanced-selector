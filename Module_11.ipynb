{
  "nbformat": 4,
  "nbformat_minor": 0,
  "metadata": {
    "colab": {
      "provenance": []
    },
    "kernelspec": {
      "name": "python3",
      "display_name": "Python 3"
    },
    "language_info": {
      "name": "python"
    }
  },
  "cells": [
    {
      "cell_type": "code",
      "execution_count": null,
      "metadata": {
        "id": "vo11A9J8GDRX"
      },
      "outputs": [],
      "source": []
    },
    {
      "cell_type": "markdown",
      "source": [
        "Q1. For the given index.html file. Perform the following task, without changing the index.html file.\n",
        "index.html (The HTML file)\n",
        "A. Create a CSS file to apply styles to the HTML element, and link it\n",
        "B. Using the combinator selector, perform the following task `\n",
        "_ Use any of the CSS combinator selectors to target all the anchor tags and change the text color to red.\n",
        "_ Target only the first <h2> tag and change the text and background color using the combinator selectol\n",
        "_ Also, select the first <p> tag and change the text color to red.\n",
        "C. Using the attribute selector, perform the following task.\n",
        "_ target the anchor tag with attribute \"href\" and change color to red and remove the text underline.\n",
        "_ Target the anchor tag with the attribute of class name “active”, change the text color, and provide the text\n",
        "style properties with underlining.\n",
        "_ Target the anchor tag with the attribute of the target whose value is “_self” and change the background\n",
        "color.\n",
        "D. Using the Pseudo selectors, perform the following tas\n",
        "_ Target the last <p> tag and add “...” i.e. three dots after its valuÆ\n",
        "_ Target the list of bullet points and change the color of the bullet points without changing the list item's value.\n",
        "_ Among the three <p> tags target the 2nd <p> tag, select the first letter of the second <p> tag, and change the\n",
        "color to red Also increase the font size to 30px\n"
      ],
      "metadata": {
        "id": "eNbDLEmwGKsa"
      }
    },
    {
      "cell_type": "code",
      "source": [
        "<!DOCTYPE html>\n",
        "<html>\n",
        "<head>\n",
        "    <meta charset=\"UTF-8\" />\n",
        "    <meta name=\"viewport\" content=\"width=device-width, initial-scale=1.0\" />\n",
        "    <title>Test</title>\n",
        "    <link rel=\"stylesheet\" href=\"style.css\">\n",
        "</head>\n",
        "<body>\n",
        "    <header>\n",
        "        <nav>\n",
        "            <h2>TOI</h2>\n",
        "            <div>\n",
        "                <h2>Menu</h2>\n",
        "                <ul>\n",
        "                    <li><a href=\"#\" target=\"_blank\">Home</a></li>\n",
        "                    <li><a href=\"#\" class=\"active\" target=\"_self\">About</a></li>\n",
        "                    <li><a href=\"#\" target=\"_blank\">Services</a></li>\n",
        "                    <li><a href=\"#\" target=\"_blank\">Contact</a></li>\n",
        "                </ul>\n",
        "            </div>\n",
        "            <p>\n",
        "                Lorem ipsum is typically a corrupted version of De finibus bonorum et malorum, a 1st-century BC text by the Roman statesman and philosopher Cicero, with words altered, added, and removed to make it nonsensical and improper Latin. The first two words are the truncation of dolorem ipsum!\n",
        "            </p>\n",
        "\n",
        "            <p>read articles</p>\n",
        "        </nav>\n",
        "    </header>\n",
        "</body>\n",
        "</html>"
      ],
      "metadata": {
        "id": "9pP0XkPrGdeh"
      },
      "execution_count": null,
      "outputs": []
    },
    {
      "cell_type": "code",
      "source": [
        "ul li a {\n",
        "    color: red;\n",
        "\n",
        "\n",
        "}\n",
        "h2:first-of-type{\n",
        "    color: red;\n",
        "    background-color: blueviolet;\n",
        "}\n",
        "p:first-of-type{\n",
        "    color: red;\n",
        "}\n",
        "a[href] {\n",
        "    color: red;\n",
        "    text-decoration: none;\n",
        "}\n",
        "a[class=\"active\"] {\n",
        "    color: blueviolet;\n",
        "    text-decoration: underline;\n",
        "}\n",
        "a[target=\"_self\"] {\n",
        "    background-color: yellow;\n",
        "}\n",
        "p:last-of-type::after{\n",
        "    content: \"...\";\n",
        "}\n",
        "li::marker{\n",
        "    color: red;\n",
        "}\n",
        "p:nth-of-type(2)::first-letter{\n",
        "    color: red;\n",
        "    font-size: 30px;\n",
        "}"
      ],
      "metadata": {
        "id": "XYfpmBCWGjIu"
      },
      "execution_count": null,
      "outputs": []
    },
    {
      "cell_type": "markdown",
      "source": [
        "Q.2 Q2.  Create a CSS file and link it to the provided HTML file below, use any of the combinator class selectors to\n",
        "style the navigation menu as follows -\n",
        "index.html (The HTML file)\n",
        "` Use the Descendant combinator selector to remove list style type bullet points and text underlining of the\n",
        "Menu list itemse\n",
        "` Use the child combinator to display the menu list item inlin^\n",
        "` Use the Adjacent sibling combinator selector to apply some margin between the menu list items."
      ],
      "metadata": {
        "id": "SiFN1Y7AGmIQ"
      }
    },
    {
      "cell_type": "code",
      "source": [
        "<!DOCTYPE html>\n",
        "<html>\n",
        "<head>\n",
        "    <meta charset=\"UTF-8\" />\n",
        "    <title> Styled Navigation menu</title>\n",
        "    <link rel=\"stylesheet\" href=\"style2.css\">\n",
        "</head>\n",
        "<body>\n",
        "   <header>\n",
        "        <nav>\n",
        "\n",
        "                <ul>\n",
        "                    <li><a href=\"#\">Home</a></li>\n",
        "                    <li><a href=\"#\" >About</a></li>\n",
        "                    <li><a href=\"#\" >Services</a></li>\n",
        "                    <li><a href=\"#\" >Contact</a></li>\n",
        "                    <li><a href=\"#\" >Portfolio</a></li>\n",
        "                </ul>\n",
        "        </nav>\n",
        "    </header>\n",
        "    <main>\n",
        "        hii everyone!!\n",
        "        </main>\n",
        "</body>\n",
        "</html>"
      ],
      "metadata": {
        "id": "bG-eHJdhGrjN"
      },
      "execution_count": null,
      "outputs": []
    },
    {
      "cell_type": "code",
      "source": [
        "nav ul li {\n",
        "    list-style: none;\n",
        "}\n",
        "nav ul li a {\n",
        "    text-decoration: none;\n",
        "}\n",
        "nav > ul > li{\n",
        "    display: inline;\n",
        "    margin-right: 20px;\n",
        "}\n",
        "ul li + li{\n",
        "    margin-top: 80px;\n",
        "}"
      ],
      "metadata": {
        "id": "56h6iWDdGuAd"
      },
      "execution_count": null,
      "outputs": []
    },
    {
      "cell_type": "markdown",
      "source": [
        "Q.3  Using any of the Pseudo element selectors, add any random words after and before the given HTML tag.\n"
      ],
      "metadata": {
        "id": "48X2VLHkGw6M"
      }
    },
    {
      "cell_type": "code",
      "source": [
        "<!DOCTYPE html>\n",
        "<html>\n",
        "<head>\n",
        "    <meta charset=\"UTF-8\" />\n",
        "    <title>Pseudo-elements</title>\n",
        "    <style>\n",
        "        .h1::before{\n",
        "            content: \"Pseudo -\";\n",
        "        }\n",
        "        .h1::after{\n",
        "            content: \" - selector\";\n",
        "        }\n",
        "        </style>\n",
        "</head>\n",
        "<body>\n",
        "    <h1>- element -</h1>\n",
        "</body>\n",
        "</html>"
      ],
      "metadata": {
        "id": "a4anuCshG10-"
      },
      "execution_count": null,
      "outputs": []
    },
    {
      "cell_type": "markdown",
      "source": [
        "Q"
      ],
      "metadata": {
        "id": "lS8Jpd9xG2TZ"
      }
    },
    {
      "cell_type": "markdown",
      "source": [
        "Q.4  Using any of the Pseudo element selectors, add any random words after and before the given HTML tag\n",
        "Assignment Question\n",
        "An example should be one HTML button tac\n",
        "a. When hovering the color should be changed and the shadow of the button should be added^\n",
        "b. Proper padding space should be given^\n",
        "c. The cursor style should also be changed to a pointer on hover"
      ],
      "metadata": {
        "id": "2ICXzhspG2x8"
      }
    },
    {
      "cell_type": "code",
      "source": [
        "<!DOCTYPE html>\n",
        "<html>\n",
        "<head>\n",
        "    <meta charset=\"UTF-8\" />\n",
        "    <title>pseudo elements button</title>\n",
        "    <style>\n",
        "        .custom-btn{\n",
        "            position: relative;\n",
        "\n",
        "            padding: 12px 24px;\n",
        "            font-size: 20px;\n",
        "            background-color: blue;\n",
        "            color: white;\n",
        "            border: none;\n",
        "            cursor: pointer;\n",
        "            transition: all 0.3s ease;\n",
        "        }\n",
        "        .custom-btn ::before{\n",
        "            content: \" start \";\n",
        "            position: absolute;\n",
        "            left: -60px;\n",
        "            top: 50%;\n",
        "            transform: translateY(-50%);\n",
        "            color: #555;\n",
        "        }\n",
        "        .custom-btn ::after{\n",
        "            content: \" end \";\n",
        "            position: absolute;\n",
        "            right: -40px;\n",
        "            top: 50%;\n",
        "            transform: translateY(-50%);\n",
        "            color: #555;\n",
        "        }\n",
        "        .custom-btn:hover{\n",
        "            background-color: #2ec7c2;\n",
        "            box-shadow: 0 8px 16px rgba(0, 0, 0, 0.2);\n",
        "            color: #fff;\n",
        "        }\n",
        "    </style>\n",
        "</head>\n",
        "<body>\n",
        "   <button class=\"custom-btn\"> Pw skills</button>\n",
        "</body>\n",
        "</html>"
      ],
      "metadata": {
        "id": "02CU5jpHHCSa"
      },
      "execution_count": null,
      "outputs": []
    }
  ]
}